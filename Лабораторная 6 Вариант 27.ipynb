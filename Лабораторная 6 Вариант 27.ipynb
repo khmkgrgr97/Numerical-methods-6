{
 "cells": [
  {
   "cell_type": "code",
   "execution_count": 144,
   "metadata": {},
   "outputs": [],
   "source": [
    "# Вариант 27\n",
    "import numpy as np\n",
    "import math \n",
    "import matplotlib.pyplot as plt\n",
    "import sympy as sm\n",
    "import scipy"
   ]
  },
  {
   "cell_type": "code",
   "execution_count": 145,
   "metadata": {},
   "outputs": [
    {
     "name": "stdout",
     "output_type": "stream",
     "text": [
      "-0.412468392652799\n"
     ]
    }
   ],
   "source": [
    "#ЗАДАНИЕ 8.1.27\n",
    "#ищем аналитическое решение\n",
    "x = sm.symbols('x')\n",
    "P_x = 3.3-2.3*x+0.5*x**2+0.3*x**3+4.3*x**4-4.3*x**5\n",
    "anres = sm.integrate(P_x, (x,1.0, 1.44))\n",
    "print(anres)"
   ]
  },
  {
   "cell_type": "code",
   "execution_count": 146,
   "metadata": {},
   "outputs": [],
   "source": [
    "c = [3.3,-2.3,0.5,0.3,4.3,-4.3]#коэффициенты многочлена\n",
    "#данные \n",
    "a = 1.0\n",
    "b = 1.44\n",
    "R = 0.0001\n",
    "\n",
    "def P(x):#многочлен \n",
    "    p = 0;\n",
    "    for i in range (len(c)):\n",
    "        p+=c[i]*(x**i)\n",
    "    return p"
   ]
  },
  {
   "cell_type": "code",
   "execution_count": 147,
   "metadata": {},
   "outputs": [
    {
     "data": {
      "text/plain": [
       "-86.0*x**3 + 51.6*x**2 + 1.8*x + 1.0"
      ]
     },
     "execution_count": 147,
     "metadata": {},
     "output_type": "execute_result"
    }
   ],
   "source": [
    "sm.diff(P_x,x,2)"
   ]
  },
  {
   "cell_type": "code",
   "execution_count": 148,
   "metadata": {},
   "outputs": [
    {
     "data": {
      "text/plain": [
       "-516.0*x + 103.2"
      ]
     },
     "execution_count": 148,
     "metadata": {},
     "output_type": "execute_result"
    }
   ],
   "source": [
    "sm.diff(P_x,x,4)"
   ]
  },
  {
   "cell_type": "code",
   "execution_count": 149,
   "metadata": {},
   "outputs": [],
   "source": [
    "#производные\n",
    "def dP2(x):\n",
    "    return -86.0*x**3 + 51.6*x**2 + 1.8*x + 1.0\n",
    "\n",
    "def dP4(x):\n",
    "    return -516.0*x + 103.2"
   ]
  },
  {
   "cell_type": "code",
   "execution_count": 150,
   "metadata": {},
   "outputs": [],
   "source": [
    "value_x=np.arange(1.0,1.44,0.0001)\n",
    "\n",
    "def M(k): #для оценки \n",
    "    if (k==2):\n",
    "        return max(abs(dP2(value_x)))\n",
    "    if (k==4):\n",
    "        return max(abs(dP4(value_x)))\n",
    "#функция для формулы трапеций\n",
    "def tr(h,n):\n",
    "    res = (P(a)+P(b))/2\n",
    "    for i in range(1,n):\n",
    "        res+=P(a+i*h)\n",
    "    return res*h\n",
    "\n",
    "#функция для формулы Симпсона\n",
    "def symps(h,n):\n",
    "    res = P(a)+P(b)\n",
    "    for i in range(n):\n",
    "        res += 4*P((a+h*i+a+(i+1)*h)/2) \n",
    "    for i in range(1,n):\n",
    "        res += 2*P(a+i*h)\n",
    "    return res*h/6   "
   ]
  },
  {
   "cell_type": "code",
   "execution_count": 151,
   "metadata": {},
   "outputs": [
    {
     "name": "stdout",
     "output_type": "stream",
     "text": [
      "По элементарной формуле трапеций:  -0.9712248674303995\n",
      "Погрешность:  0.558756474777600\n"
     ]
    }
   ],
   "source": [
    "#элементарная формула трапеций\n",
    "h=b-a\n",
    "I1=(P(b)+P(a))*h/2\n",
    "print(\"По элементарной формуле трапеций: \",I1)\n",
    "print(\"Погрешность: \",abs(I1-anres))"
   ]
  },
  {
   "cell_type": "code",
   "execution_count": 152,
   "metadata": {},
   "outputs": [
    {
     "name": "stdout",
     "output_type": "stream",
     "text": [
      "По элементарной формуле Симпсона:  0.0341250441898668\n",
      "Погрешность:  0.446593436842666\n"
     ]
    }
   ],
   "source": [
    "#элементарная формула Симпсона\n",
    "h=b-a\n",
    "I2=(P(a)+4*((a+b)/2)+P(b))*h/6\n",
    "print(\"По элементарной формуле Симпсона: \",I2)\n",
    "print(\"Погрешность: \",abs(I2-anres))"
   ]
  },
  {
   "cell_type": "code",
   "execution_count": 153,
   "metadata": {},
   "outputs": [
    {
     "name": "stdout",
     "output_type": "stream",
     "text": [
      "Число шагов для составной формулы трапеции:  102\n",
      "Шаг для нее:  0.004313725490196078\n",
      "По составной формуле трапеций:  -0.4125232571945171\n",
      "Погрешность:  5.48645417178806e-5\n"
     ]
    }
   ],
   "source": [
    "#оценим число шагов\n",
    "h2=math.sqrt((12*R)/((b-a)*M(2))) #R=M2*(b-a)*h^2/12 - погрешность \n",
    "n2=int((b-a)/h2+1)\n",
    "print(\"Число шагов для составной формулы трапеции: \", n2)\n",
    "\n",
    "h2=(b-a)/n2\n",
    "print(\"Шаг для нее: \",h2)\n",
    "#посчитаем интеграл по формуле трапеций\n",
    "I3=tr(h2,n2)\n",
    "print(\"По составной формуле трапеций: \",I3)\n",
    "print(\"Погрешность: \",abs(I3-anres))"
   ]
  },
  {
   "cell_type": "code",
   "execution_count": 154,
   "metadata": {},
   "outputs": [
    {
     "name": "stdout",
     "output_type": "stream",
     "text": [
      "Число шагов для составной формулы Симпсона:  3\n",
      "Шаг для нее:  0.14666666666666664\n",
      "По составной формуле Симпсона:  -0.41250560060333724\n",
      "Погрешность:  3.72079505380207e-5\n"
     ]
    }
   ],
   "source": [
    "#оценим число шагов\n",
    "h3 = ((2880*R)/(M(4)*(b-a)))**(0.25)\n",
    "n3=int((b-a)/h3+1)\n",
    "print(\"Число шагов для составной формулы Симпсона: \", n3)\n",
    "\n",
    "h3=(b-a)/n3\n",
    "print(\"Шаг для нее: \",h3)\n",
    "#посчитаем интеграо по формуле Симпсона\n",
    "I4=symps(h3,n3)\n",
    "print(\"По составной формуле Симпсона: \",I4)\n",
    "print(\"Погрешность: \",abs(I4-anres))"
   ]
  },
  {
   "cell_type": "code",
   "execution_count": 155,
   "metadata": {},
   "outputs": [],
   "source": [
    "#Величина погрешностей для составных формул меньше 0.0001\n",
    "#Интегрирование по формуле Симпсона происходит гораздо быстрее (3 шага вместо 102)"
   ]
  },
  {
   "cell_type": "code",
   "execution_count": 156,
   "metadata": {},
   "outputs": [],
   "source": [
    "#ЗАДАНИЕ 8.4.9"
   ]
  },
  {
   "cell_type": "code",
   "execution_count": 157,
   "metadata": {},
   "outputs": [],
   "source": [
    "#заданная подинтегральная функция\n",
    "def f(x,t):\n",
    "    return np.cos(x+5*t)*np.sin(2*x-t)\n",
    "#данные \n",
    "a = 0\n",
    "b = 3\n",
    "x1 = -2\n",
    "x2 = -1"
   ]
  },
  {
   "cell_type": "code",
   "execution_count": 162,
   "metadata": {},
   "outputs": [],
   "source": [
    "#ищем заданную функцию F(x) на интервале [x1,x2] с помощию формулы трапеций\n",
    "def F(x, n):\n",
    "    h = (b-a)/n\n",
    "    res = (f(x, a)+f(x, b))/2\n",
    "    for i in range(1,n):\n",
    "        res += f(x, a+i*h)\n",
    "    return res*h"
   ]
  },
  {
   "cell_type": "code",
   "execution_count": 163,
   "metadata": {},
   "outputs": [
    {
     "data": {
      "image/png": "[encoded data removed]",
      "text/plain": [
       "<Figure size 432x288 with 1 Axes>"
      ]
     },
     "metadata": {
      "needs_background": "light"
     },
     "output_type": "display_data"
    }
   ],
   "source": [
    "int_lst = []\n",
    "for x in np.arange(-2.0, -1.0, 10**(-2)):\n",
    "    n = 1\n",
    "    #используем правило Рунге для определения шага, заданная точность 10**(-8)\n",
    "    while (F(x, 2*n)-F(x, n)/3)>10**(-8):\n",
    "        n += 1\n",
    "    int_lst.append(F(x, n))  \n",
    "plt.plot(np.arange(-2.0, -1.0, 10**(-2)), np.array(int_lst), '.' , label = u'F(x)')\n",
    "plt.xlabel('x')\n",
    "plt.ylabel('F(x)')\n",
    "plt.legend()\n",
    "plt.show()"
   ]
  },
  {
   "cell_type": "code",
   "execution_count": 164,
   "metadata": {},
   "outputs": [],
   "source": [
    "#ЗАДАНИЕ 8.7.10"
   ]
  },
  {
   "cell_type": "code",
   "execution_count": 165,
   "metadata": {},
   "outputs": [
    {
     "data": {
      "image/png": "[encoded data removed]",
      "text/plain": [
       "<Figure size 432x288 with 1 Axes>"
      ]
     },
     "metadata": {
      "needs_background": "light"
     },
     "output_type": "display_data"
    }
   ],
   "source": [
    "plt.grid(True)\n",
    "plt.xlabel(u'x')\n",
    "plt.ylabel(u'y')\n",
    "plt.title(u'Пересечение кривых')\n",
    "\n",
    "y = np.arange (-5,10,0.1) \n",
    "x = y**2/9 #выразили x через y из первого уравнения\n",
    "plt.plot(x,y,label = u'1 кривая')\n",
    "\n",
    "x = np.arange (-5,10,0.01)\n",
    "y = x**2/9 #выразили y через x из второго уравнения\n",
    "plt.plot(x,y,label = u'2 кривая')\n",
    "\n",
    "plt.legend()\n",
    "plt.show()"
   ]
  },
  {
   "cell_type": "code",
   "execution_count": 166,
   "metadata": {},
   "outputs": [],
   "source": [
    "f1 = lambda x: 3*np.sqrt(x)\n",
    "f2 = lambda x: x**2/9"
   ]
  },
  {
   "cell_type": "code",
   "execution_count": 167,
   "metadata": {},
   "outputs": [],
   "source": [
    "#По графику получим 2 точки: (0,0), (9,9), зададим данные \n",
    "a = 0.0\n",
    "b = 9.0"
   ]
  },
  {
   "cell_type": "code",
   "execution_count": 168,
   "metadata": {},
   "outputs": [],
   "source": [
    "#функция для формулы Симпсона\n",
    "def symps(P,n):\n",
    "    h=(b-a)/n\n",
    "    res = P(a)+P(b)\n",
    "    for i in range(n):\n",
    "        res += 4*P((a+h*i+a+(i+1)*h)/2) \n",
    "    for i in range(1,n):\n",
    "        res += 2*P(a+i*h)\n",
    "    return res*h/6   "
   ]
  },
  {
   "cell_type": "code",
   "execution_count": 169,
   "metadata": {},
   "outputs": [],
   "source": [
    "#Искомая площадь - разность площадей \"треугольников\" (из площади под оранжевым графиком вычтем площадь под синим графиком)"
   ]
  },
  {
   "cell_type": "code",
   "execution_count": 170,
   "metadata": {},
   "outputs": [],
   "source": [
    "n = 1\n",
    "#используем правило Рунге для определения шага, заданная точность 10**(-8)\n",
    "while (abs(symps(f1, 2*n)-symps(f1, n))/15)>10**(-8):\n",
    "    n = 2*n\n",
    "res1 = symps(f1,n)"
   ]
  },
  {
   "cell_type": "code",
   "execution_count": 171,
   "metadata": {},
   "outputs": [],
   "source": [
    "m = 1\n",
    "#используем правило Рунге для определения шага, заданная точность 10**(-8)\n",
    "while (abs(symps(f2, 2*m)-symps(f2, m))/15)>10**(-8):\n",
    "    m += 1\n",
    "res2 = symps(f2,m)"
   ]
  },
  {
   "cell_type": "code",
   "execution_count": 172,
   "metadata": {},
   "outputs": [
    {
     "data": {
      "text/plain": [
       "26.99999986142283"
      ]
     },
     "execution_count": 172,
     "metadata": {},
     "output_type": "execute_result"
    }
   ],
   "source": [
    "res1-res2"
   ]
  },
  {
   "cell_type": "code",
   "execution_count": 173,
   "metadata": {},
   "outputs": [],
   "source": [
    "#ЗАДАНИЕ 8.6.27"
   ]
  },
  {
   "cell_type": "code",
   "execution_count": 176,
   "metadata": {},
   "outputs": [],
   "source": [
    "#используем аналитическое решение из задачи 1\n",
    "anres=-0.412468392652799\n",
    "#данные \n",
    "c = [3.3,-2.3,0.5,0.3,4.3,-4.3]#коэффициенты многочлена\n",
    "a = 1.0\n",
    "b = 1.44\n",
    "\n",
    "def P(x):#многочлен \n",
    "    p = 0;\n",
    "    for i in range (len(c)):\n",
    "        p+=c[i]*(x**i)\n",
    "    return p"
   ]
  },
  {
   "cell_type": "code",
   "execution_count": 180,
   "metadata": {},
   "outputs": [],
   "source": [
    "#функция для формулы Гаусса\n",
    "def gauss1(a,b,f):\n",
    "    return((b-a)/2)*2*f((a+b)/2)\n",
    "\n",
    "def gauss2(a,b,f):\n",
    "    t0=-0.577350269189626\n",
    "    A0=1.0\n",
    "    t1=0.577350269189626\n",
    "    A1=1.0\n",
    "    return ((b-a)/2)*(A0*f((a+b)/2+(b-a)*t0/2)+A1*f((a+b)/2+(b-a)*t1/2))\n",
    "\n",
    "def gauss3(a,b,f):\n",
    "    t0=-0.77459666929954\n",
    "    A0=0.55555555555556\n",
    "    t1=0.0\n",
    "    A1=0.88888888888888\n",
    "    t2=0.77459666929954\n",
    "    A2=0.55555555555556\n",
    "    return ((b-a)/2)*(A0*f((a+b)/2+(b-a)*t0/2)+A1*f((a+b)/2+(b-a)*t1/2)+A2*f((a+b)/2+(b-a)*t2/2))\n",
    "\n",
    "def gauss4(a,b,f):\n",
    "    t0=-0.861136311594052\n",
    "    A0=0.347854845137454\n",
    "    t1=-0.339981043584856\n",
    "    A1=0.652145154862546\n",
    "    t2=0.339981043584856\n",
    "    A2=0.652145154862546\n",
    "    t3=0.861136311594052\n",
    "    A3=0.347854845137454\n",
    "    return ((b-a)/2)*(A0*f((a+b)/2+(b-a)*t0/2)+A1*f((a+b)/2+(b-a)*t1/2)+A2*f((a+b)/2+(b-a)*t2/2)+A3*f((a+b)/2+(b-a)*t3/2))"
   ]
  },
  {
   "cell_type": "code",
   "execution_count": 190,
   "metadata": {},
   "outputs": [
    {
     "name": "stdout",
     "output_type": "stream",
     "text": [
      "-0.13761092125440014 -0.4104591633237332 -0.4124683926946812 -0.4124683926527993\n"
     ]
    }
   ],
   "source": [
    "#ищем интеграл с помощью формул Гаусса\n",
    "I1=gauss1(a,b,P)\n",
    "I2=gauss2(a,b,P)\n",
    "I3=gauss3(a,b,P)\n",
    "I4=gauss4(a,b,P)\n",
    "print(I1,I2,I3,I4)\n",
    "#ищем погрешность\n",
    "er=np.array([abs(I1-anres),abs(I2-anres),abs(I3-anres),abs(I4-anres)])"
   ]
  },
  {
   "cell_type": "code",
   "execution_count": 191,
   "metadata": {},
   "outputs": [
    {
     "data": {
      "image/png": "[encoded data removed]",
      "text/plain": [
       "<Figure size 432x288 with 1 Axes>"
      ]
     },
     "metadata": {
      "needs_background": "light"
     },
     "output_type": "display_data"
    }
   ],
   "source": [
    "#построим график зависимости погрешности от числа узлов\n",
    "plt.bar(range(0, 4), er)\n",
    "plt.xlabel('количество узлов');\n",
    "plt.ylabel('погрешность');"
   ]
  },
  {
   "cell_type": "code",
   "execution_count": 192,
   "metadata": {},
   "outputs": [],
   "source": [
    "#квадратурные формулы Гаусса с N+1 (N=0,1,2,3) узлом точны для многочленов 1, t,…,tm, где m=2N+1, \n",
    "#так как для многочлена степени m=5, квадратурная формула Гаусса с N+1=2+1=3 узлами и больше точна"
   ]
  },
  {
   "cell_type": "code",
   "execution_count": 193,
   "metadata": {},
   "outputs": [],
   "source": [
    "#ЗАДАНИЕ 8.9.27"
   ]
  },
  {
   "cell_type": "code",
   "execution_count": 196,
   "metadata": {},
   "outputs": [],
   "source": [
    "#данные \n",
    "l=0.1 \n",
    "a=0 \n",
    "b=1 \n",
    "#формула Гаусса с 3 узлами\n",
    "t0=-0.77459666929954\n",
    "A0=0.55555555555556\n",
    "t1=0.0\n",
    "A1=0.88888888888888\n",
    "t2=0.77459666929954\n",
    "A2=0.55555555555556\n",
    "gauss3 = lambda x: l*((b-a)/2)*(A0*k(x,(a+b)/2+(b-a)*t0/2) + A1*k(x, (a+b)/2+(b-a)*t1/2) + A2*k(x, (a+b)/2+(b-a)*t2/2))\n",
    "\n",
    "k = lambda x,t: 1/(10-x*t)\n",
    "f = lambda x: 1+x**2\n",
    "\n",
    "h=(b-a)/10"
   ]
  },
  {
   "cell_type": "code",
   "execution_count": 199,
   "metadata": {},
   "outputs": [
    {
     "data": {
      "image/png": "[encoded data removed]",
      "text/plain": [
       "<Figure size 432x288 with 1 Axes>"
      ]
     },
     "metadata": {
      "needs_background": "light"
     },
     "output_type": "display_data"
    }
   ],
   "source": [
    "#выразили из уравнения (с использованием формулы Гаусса)\n",
    "y = lambda x: f(x)/(1 - gauss3(x))\n",
    "#построим график полученного решения с заданным шагом\n",
    "x_range = np.arange(a, b+h, h)\n",
    "y_range = y(x_range)\n",
    "plt.plot(x_range, y_range, label = u'Решение')\n",
    "plt.xlabel(u'x')\n",
    "plt.ylabel(u'y')\n",
    "plt.legend()\n",
    "plt.show()"
   ]
  },
  {
   "cell_type": "code",
   "execution_count": 200,
   "metadata": {},
   "outputs": [
    {
     "data": {
      "text/plain": [
       "array([1.01010101, 1.02025389, 1.05061261, 1.10118036, 1.17196044,\n",
       "       1.26295624, 1.37417123, 1.50560901, 1.65727326, 1.82916778,\n",
       "       2.02129648])"
      ]
     },
     "execution_count": 200,
     "metadata": {},
     "output_type": "execute_result"
    }
   ],
   "source": [
    "#решение\n",
    "y_range"
   ]
  },
  {
   "cell_type": "code",
   "execution_count": null,
   "metadata": {},
   "outputs": [],
   "source": []
  }
 ],
 "metadata": {
  "kernelspec": {
   "display_name": "Python 3",
   "language": "python",
   "name": "python3"
  },
  "language_info": {
   "codemirror_mode": {
    "name": "ipython",
    "version": 3
   },
   "file_extension": ".py",
   "mimetype": "text/x-python",
   "name": "python",
   "nbconvert_exporter": "python",
   "pygments_lexer": "ipython3",
   "version": "3.7.2"
  }
 },
 "nbformat": 4,
 "nbformat_minor": 2
}
